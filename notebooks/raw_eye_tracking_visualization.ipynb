{
 "cells": [
  {
   "cell_type": "code",
   "execution_count": 1,
   "metadata": {},
   "outputs": [],
   "source": [
    "%load_ext autoreload\n",
    "%autoreload 2"
   ]
  },
  {
   "cell_type": "code",
   "execution_count": 2,
   "metadata": {},
   "outputs": [],
   "source": [
    "import sys\n",
    "sys.path.append('../')\n",
    "\n",
    "import cv2\n",
    "import pandas\n",
    "import numpy as np\n",
    "from tqdm import tqdm\n",
    "from typing import Tuple\n",
    "\n",
    "from src.utils.eye_tracking_data import get_eye_tracking_data\n",
    "\n",
    "OUTPUT_FILE_PATH = \"../data/result.mp4\"\n",
    "FRAME_WIDTH = 600\n",
    "FRAME_HEIGHT = 300\n",
    "FPS = 144\n",
    "CIRCLE_RADIUS = 5\n",
    "CIRCLE_COLOR = (0, 0, 255, 100)"
   ]
  },
  {
   "cell_type": "code",
   "execution_count": 4,
   "metadata": {},
   "outputs": [
    {
     "name": "stdout",
     "output_type": "stream",
     "text": [
      "max_frames [np.int64(12552)]\n"
     ]
    },
    {
     "name": "stderr",
     "output_type": "stream",
     "text": [
      "⌛ Generating gaze video...: 100%|██████████| 12552/12552 [00:06<00:00, 1985.81frames/s]\n"
     ]
    }
   ],
   "source": [
    "def visualize_gaze_sequence(\n",
    "    experiment_id: int,\n",
    "    session_id: int,\n",
    "    participant_ids: int | None,\n",
    "    sequence_id: int,\n",
    "    output_file_path: str,\n",
    "    frame_width: int,\n",
    "    frame_height: int,\n",
    "    fps: int,\n",
    "    circle_radius: int,\n",
    "    circle_color: Tuple[int, int, int],\n",
    "):\n",
    "\n",
    "\n",
    "    # Get data and group by single sequence experiment\n",
    "    data = get_eye_tracking_data(\n",
    "        experiment_id=experiment_id,\n",
    "        session_id=session_id,\n",
    "        participant_ids=participant_ids,\n",
    "        sequence_ids=[sequence_id],\n",
    "    )\n",
    "    data = data.groupby([\"ExperimentId\", \"SessionId\", \"ParticipantId\", \"SequenceId\"])\n",
    "    groups = [data.get_group(group) for group in data.groups]\n",
    "\n",
    "    # Sort each sequence by timestamp and compute time difference between consecutive frames\n",
    "    for i, group in enumerate(groups):\n",
    "        group = group.copy()\n",
    "        group = group.sort_values(\"Timestamp\")\n",
    "        group['TimeDiff'] = group['Timestamp'].diff().fillna(0)\n",
    "        group['FrameDiff'] = group['TimeDiff'] / 1e7 * fps\n",
    "        group['FrameNumber'] = group['FrameDiff'].cumsum().astype(int)\n",
    "        group.drop(columns=[\"TimeDiff\", \"FrameDiff\"], inplace=True)\n",
    "        groups[i] = group\n",
    "\n",
    "    # Initialize video writer\n",
    "    fourcc = cv2.VideoWriter_fourcc('H','2','6','4')\n",
    "    out = cv2.VideoWriter(output_file_path, fourcc, fps, (frame_width, frame_height))\n",
    "\n",
    "    background = np.zeros((frame_height, frame_width, 3), dtype=np.uint8) + 10\n",
    "\n",
    "    curr_frame = 0\n",
    "    curr_group_coordinates_list = [None] * len(groups)\n",
    "    next_frames = [group['FrameNumber'].iloc[0] for group in groups]\n",
    "    max_frame = max([group['FrameNumber'].max() for group in groups])\n",
    "    print(\"max_frames\", [group['FrameNumber'].max() for group in groups])\n",
    "    bar = tqdm(total=max_frame, desc=\"⌛ Generating gaze video...\", unit=\"frames\")\n",
    "    while curr_frame < max_frame:\n",
    "\n",
    "        frame = background.copy()\n",
    "\n",
    "        # Update current gaze coordinates\n",
    "        for i, group in enumerate(groups):\n",
    "            next_frame = next_frames[i]\n",
    "            if curr_frame == next_frame:\n",
    "                # Update current gaze coordinates\n",
    "                curr_group_coordinates = group[group['FrameNumber'] == curr_frame][['GazeX', 'GazeY']].values\n",
    "                curr_group_coordinates_list[i] = curr_group_coordinates[0]\n",
    "\n",
    "                # Update next frame\n",
    "                next_frame = group[group['FrameNumber'] > curr_frame]['FrameNumber']\n",
    "                if len(next_frame) > 0:\n",
    "                    next_frame = next_frame.iloc[0]\n",
    "                else:\n",
    "                    next_frame = max_frame + 1 # Set to max frame to avoid updating gaze coordinates\n",
    "                next_frames[i] = next_frame\n",
    "\n",
    "        # Draw gaze coordinates\n",
    "        for curr_group_coordinates in curr_group_coordinates_list:\n",
    "            if curr_group_coordinates is not None:\n",
    "                x = int(curr_group_coordinates[0] * frame_width)\n",
    "                y = int((1.0 - curr_group_coordinates[1]) * frame_height)\n",
    "                cv2.circle(frame, (x, y), radius=circle_radius, color=circle_color, thickness=-1)\n",
    "\n",
    "        out.write(frame)\n",
    "        curr_frame += 1\n",
    "        bar.update(1)\n",
    "\n",
    "    out.release()\n",
    "    cv2.destroyAllWindows()\n",
    "\n",
    "visualize_gaze_sequence(\n",
    "    experiment_id=2,\n",
    "    session_id=1,\n",
    "    participant_ids=[1],\n",
    "    sequence_id=4,\n",
    "    output_file_path=OUTPUT_FILE_PATH, \n",
    "    frame_width=FRAME_WIDTH,\n",
    "    frame_height=FRAME_HEIGHT,\n",
    "    fps=FPS, \n",
    "    circle_radius=CIRCLE_RADIUS, \n",
    "    circle_color=CIRCLE_COLOR\n",
    ")"
   ]
  },
  {
   "cell_type": "code",
   "execution_count": null,
   "metadata": {},
   "outputs": [],
   "source": []
  }
 ],
 "metadata": {
  "kernelspec": {
   "display_name": "pdm",
   "language": "python",
   "name": "python3"
  },
  "language_info": {
   "codemirror_mode": {
    "name": "ipython",
    "version": 3
   },
   "file_extension": ".py",
   "mimetype": "text/x-python",
   "name": "python",
   "nbconvert_exporter": "python",
   "pygments_lexer": "ipython3",
   "version": "3.12.5"
  }
 },
 "nbformat": 4,
 "nbformat_minor": 2
}
